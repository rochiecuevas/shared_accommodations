{
 "cells": [
  {
   "cell_type": "markdown",
   "metadata": {},
   "source": [
    "# Pre-processing of hotel data (2004–2018)\n",
    "The dataset was sourced from a Tableau graph in [SF City Performance Scorecard](https://sfgov.org/scorecards/tourism). "
   ]
  },
  {
   "cell_type": "code",
   "execution_count": 1,
   "metadata": {},
   "outputs": [],
   "source": [
    "# Dependencies\n",
    "import pandas as pd\n",
    "from dateutil import parser # to convert date strings to datetime format"
   ]
  },
  {
   "cell_type": "code",
   "execution_count": 2,
   "metadata": {},
   "outputs": [
    {
     "data": {
      "text/html": [
       "<div>\n",
       "<style scoped>\n",
       "    .dataframe tbody tr th:only-of-type {\n",
       "        vertical-align: middle;\n",
       "    }\n",
       "\n",
       "    .dataframe tbody tr th {\n",
       "        vertical-align: top;\n",
       "    }\n",
       "\n",
       "    .dataframe thead th {\n",
       "        text-align: right;\n",
       "    }\n",
       "</style>\n",
       "<table border=\"1\" class=\"dataframe\">\n",
       "  <thead>\n",
       "    <tr style=\"text-align: right;\">\n",
       "      <th></th>\n",
       "      <th>Date</th>\n",
       "      <th>Seasonal Adjustment</th>\n",
       "      <th>Average Daily Rate</th>\n",
       "      <th>Hotel Occupancy</th>\n",
       "      <th>Revenue per Available Hotel Room</th>\n",
       "    </tr>\n",
       "  </thead>\n",
       "  <tbody>\n",
       "    <tr>\n",
       "      <th>0</th>\n",
       "      <td>07/01/2004 00:00</td>\n",
       "      <td>Seasonally Adjusted</td>\n",
       "      <td>141.6038</td>\n",
       "      <td>0.738484</td>\n",
       "      <td>104.5721</td>\n",
       "    </tr>\n",
       "    <tr>\n",
       "      <th>1</th>\n",
       "      <td>08/01/2004 00:00</td>\n",
       "      <td>Seasonally Adjusted</td>\n",
       "      <td>143.1187</td>\n",
       "      <td>0.719571</td>\n",
       "      <td>102.9840</td>\n",
       "    </tr>\n",
       "    <tr>\n",
       "      <th>2</th>\n",
       "      <td>09/01/2004 00:00</td>\n",
       "      <td>Seasonally Adjusted</td>\n",
       "      <td>137.4212</td>\n",
       "      <td>0.750757</td>\n",
       "      <td>103.1699</td>\n",
       "    </tr>\n",
       "    <tr>\n",
       "      <th>3</th>\n",
       "      <td>10/01/2004 00:00</td>\n",
       "      <td>Seasonally Adjusted</td>\n",
       "      <td>141.5987</td>\n",
       "      <td>0.778466</td>\n",
       "      <td>110.2297</td>\n",
       "    </tr>\n",
       "    <tr>\n",
       "      <th>4</th>\n",
       "      <td>11/01/2004 00:00</td>\n",
       "      <td>Seasonally Adjusted</td>\n",
       "      <td>148.4632</td>\n",
       "      <td>0.682347</td>\n",
       "      <td>101.3035</td>\n",
       "    </tr>\n",
       "  </tbody>\n",
       "</table>\n",
       "</div>"
      ],
      "text/plain": [
       "               Date  Seasonal Adjustment  Average Daily Rate  Hotel Occupancy  \\\n",
       "0  07/01/2004 00:00  Seasonally Adjusted            141.6038         0.738484   \n",
       "1  08/01/2004 00:00  Seasonally Adjusted            143.1187         0.719571   \n",
       "2  09/01/2004 00:00  Seasonally Adjusted            137.4212         0.750757   \n",
       "3  10/01/2004 00:00  Seasonally Adjusted            141.5987         0.778466   \n",
       "4  11/01/2004 00:00  Seasonally Adjusted            148.4632         0.682347   \n",
       "\n",
       "   Revenue per Available Hotel Room  \n",
       "0                          104.5721  \n",
       "1                          102.9840  \n",
       "2                          103.1699  \n",
       "3                          110.2297  \n",
       "4                          101.3035  "
      ]
     },
     "execution_count": 2,
     "metadata": {},
     "output_type": "execute_result"
    }
   ],
   "source": [
    "# Create a dataframe from the csv file\n",
    "hotel_df = pd.read_csv(\"hotel_indicators.csv\")\n",
    "hotel_df.head()"
   ]
  },
  {
   "cell_type": "code",
   "execution_count": 3,
   "metadata": {},
   "outputs": [
    {
     "data": {
      "text/html": [
       "<div>\n",
       "<style scoped>\n",
       "    .dataframe tbody tr th:only-of-type {\n",
       "        vertical-align: middle;\n",
       "    }\n",
       "\n",
       "    .dataframe tbody tr th {\n",
       "        vertical-align: top;\n",
       "    }\n",
       "\n",
       "    .dataframe thead th {\n",
       "        text-align: right;\n",
       "    }\n",
       "</style>\n",
       "<table border=\"1\" class=\"dataframe\">\n",
       "  <thead>\n",
       "    <tr style=\"text-align: right;\">\n",
       "      <th></th>\n",
       "      <th>Date</th>\n",
       "      <th>Average Daily Rate</th>\n",
       "      <th>Hotel Occupancy</th>\n",
       "    </tr>\n",
       "  </thead>\n",
       "  <tbody>\n",
       "    <tr>\n",
       "      <th>0</th>\n",
       "      <td>07/01/2004 00:00</td>\n",
       "      <td>141.6038</td>\n",
       "      <td>0.738484</td>\n",
       "    </tr>\n",
       "    <tr>\n",
       "      <th>1</th>\n",
       "      <td>08/01/2004 00:00</td>\n",
       "      <td>143.1187</td>\n",
       "      <td>0.719571</td>\n",
       "    </tr>\n",
       "    <tr>\n",
       "      <th>2</th>\n",
       "      <td>09/01/2004 00:00</td>\n",
       "      <td>137.4212</td>\n",
       "      <td>0.750757</td>\n",
       "    </tr>\n",
       "    <tr>\n",
       "      <th>3</th>\n",
       "      <td>10/01/2004 00:00</td>\n",
       "      <td>141.5987</td>\n",
       "      <td>0.778466</td>\n",
       "    </tr>\n",
       "    <tr>\n",
       "      <th>4</th>\n",
       "      <td>11/01/2004 00:00</td>\n",
       "      <td>148.4632</td>\n",
       "      <td>0.682347</td>\n",
       "    </tr>\n",
       "  </tbody>\n",
       "</table>\n",
       "</div>"
      ],
      "text/plain": [
       "               Date  Average Daily Rate  Hotel Occupancy\n",
       "0  07/01/2004 00:00            141.6038         0.738484\n",
       "1  08/01/2004 00:00            143.1187         0.719571\n",
       "2  09/01/2004 00:00            137.4212         0.750757\n",
       "3  10/01/2004 00:00            141.5987         0.778466\n",
       "4  11/01/2004 00:00            148.4632         0.682347"
      ]
     },
     "execution_count": 3,
     "metadata": {},
     "output_type": "execute_result"
    }
   ],
   "source": [
    "# Choose only Date, Average Daily Rate, and Hotel Occupancy\n",
    "hotel_df2 = hotel_df[[\"Date\", \"Average Daily Rate\", \"Hotel Occupancy\"]]\n",
    "hotel_df2.head()"
   ]
  },
  {
   "cell_type": "code",
   "execution_count": 4,
   "metadata": {
    "scrolled": false
   },
   "outputs": [],
   "source": [
    "# Format the Date to Year-Month\n",
    "periods = hotel_df2[\"Date\"].str.replace(\"/\",\"-\")\n",
    "periods = [date[0:10] for date in periods]"
   ]
  },
  {
   "cell_type": "code",
   "execution_count": 5,
   "metadata": {},
   "outputs": [],
   "source": [
    "# Convert the MM/DD/YYYY format to YYYY-MM\n",
    "periods = [parser.parse(date).strftime('%Y-%m') for date in periods]"
   ]
  },
  {
   "cell_type": "code",
   "execution_count": 6,
   "metadata": {},
   "outputs": [
    {
     "data": {
      "text/html": [
       "<div>\n",
       "<style scoped>\n",
       "    .dataframe tbody tr th:only-of-type {\n",
       "        vertical-align: middle;\n",
       "    }\n",
       "\n",
       "    .dataframe tbody tr th {\n",
       "        vertical-align: top;\n",
       "    }\n",
       "\n",
       "    .dataframe thead th {\n",
       "        text-align: right;\n",
       "    }\n",
       "</style>\n",
       "<table border=\"1\" class=\"dataframe\">\n",
       "  <thead>\n",
       "    <tr style=\"text-align: right;\">\n",
       "      <th></th>\n",
       "      <th>Average Daily Rate</th>\n",
       "      <th>Hotel Occupancy</th>\n",
       "      <th>Date</th>\n",
       "    </tr>\n",
       "  </thead>\n",
       "  <tbody>\n",
       "    <tr>\n",
       "      <th>0</th>\n",
       "      <td>141.6038</td>\n",
       "      <td>0.738484</td>\n",
       "      <td>2004-07</td>\n",
       "    </tr>\n",
       "    <tr>\n",
       "      <th>1</th>\n",
       "      <td>143.1187</td>\n",
       "      <td>0.719571</td>\n",
       "      <td>2004-08</td>\n",
       "    </tr>\n",
       "    <tr>\n",
       "      <th>2</th>\n",
       "      <td>137.4212</td>\n",
       "      <td>0.750757</td>\n",
       "      <td>2004-09</td>\n",
       "    </tr>\n",
       "    <tr>\n",
       "      <th>3</th>\n",
       "      <td>141.5987</td>\n",
       "      <td>0.778466</td>\n",
       "      <td>2004-10</td>\n",
       "    </tr>\n",
       "    <tr>\n",
       "      <th>4</th>\n",
       "      <td>148.4632</td>\n",
       "      <td>0.682347</td>\n",
       "      <td>2004-11</td>\n",
       "    </tr>\n",
       "  </tbody>\n",
       "</table>\n",
       "</div>"
      ],
      "text/plain": [
       "   Average Daily Rate  Hotel Occupancy     Date\n",
       "0            141.6038         0.738484  2004-07\n",
       "1            143.1187         0.719571  2004-08\n",
       "2            137.4212         0.750757  2004-09\n",
       "3            141.5987         0.778466  2004-10\n",
       "4            148.4632         0.682347  2004-11"
      ]
     },
     "execution_count": 6,
     "metadata": {},
     "output_type": "execute_result"
    }
   ],
   "source": [
    "# Insert the new date format into the dataframe and drop the original Date column\n",
    "hotel_df2 = hotel_df2.drop([\"Date\"], axis = 1)\n",
    "hotel_df2[\"Date\"] = periods\n",
    "hotel_df2.head()"
   ]
  },
  {
   "cell_type": "code",
   "execution_count": 7,
   "metadata": {},
   "outputs": [],
   "source": [
    "# Save the file in the Data folder, ready for analyses and visualisation\n",
    "hotel_df2.to_csv(\"../Data/hotel_rates.csv\", sep = \",\", encoding = \"utf-8\")"
   ]
  }
 ],
 "metadata": {
  "kernelspec": {
   "display_name": "Python 3",
   "language": "python",
   "name": "python3"
  },
  "language_info": {
   "codemirror_mode": {
    "name": "ipython",
    "version": 3
   },
   "file_extension": ".py",
   "mimetype": "text/x-python",
   "name": "python",
   "nbconvert_exporter": "python",
   "pygments_lexer": "ipython3",
   "version": "3.6.5"
  }
 },
 "nbformat": 4,
 "nbformat_minor": 2
}
