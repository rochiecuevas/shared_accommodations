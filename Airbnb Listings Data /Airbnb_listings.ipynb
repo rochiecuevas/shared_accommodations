{
 "cells": [
  {
   "cell_type": "markdown",
   "metadata": {},
   "source": [
    "# Creating a dataframe containing Airbnb listings data from 2015 to 2017"
   ]
  },
  {
   "cell_type": "code",
   "execution_count": 1,
   "metadata": {},
   "outputs": [],
   "source": [
    "# Dependencies\n",
    "import pandas as pd\n",
    "import os\n",
    "import re # for filtering list of files"
   ]
  },
  {
   "cell_type": "code",
   "execution_count": 2,
   "metadata": {},
   "outputs": [],
   "source": [
    "# List down csv files\n",
    "files = os.listdir() # shows all the files inside the folder\n",
    "r = re.compile(\".*listings.csv\") # filters the files to those with endings of the data files\n",
    "newlist = list(filter(r.match, files)) # creates a list of csv files"
   ]
  },
  {
   "cell_type": "code",
   "execution_count": 3,
   "metadata": {},
   "outputs": [
    {
     "name": "stderr",
     "output_type": "stream",
     "text": [
      "/anaconda3/envs/PythonData/lib/python3.6/site-packages/IPython/core/interactiveshell.py:2903: DtypeWarning: Columns (43) have mixed types. Specify dtype option on import or set low_memory=False.\n",
      "  if self.run_code(code, result):\n"
     ]
    }
   ],
   "source": [
    "# list of csv file contents\n",
    "Airbnb_dflist = [pd.read_csv(file) for file in newlist] # runs pd.read_csv() for all files at the same time"
   ]
  },
  {
   "cell_type": "code",
   "execution_count": 4,
   "metadata": {},
   "outputs": [],
   "source": [
    "# parsing the names for the dataframes\n",
    "file_names = [file_name[0:8] for file_name in newlist] # get only the extraction dates"
   ]
  },
  {
   "cell_type": "code",
   "execution_count": 5,
   "metadata": {},
   "outputs": [],
   "source": [
    "# put two lists into a dictionary (first list has names of files; second list has the contents of the csv files)\n",
    "Airbnb_df_dict = dict(zip(file_names,Airbnb_dflist))"
   ]
  },
  {
   "cell_type": "code",
   "execution_count": 6,
   "metadata": {},
   "outputs": [],
   "source": [
    "# Create a function that extracts a wanted variable from the dictionary\n",
    "def extract(dict_name, str): # metric of interest is what is written as string\n",
    "    x = []\n",
    "    for key,value in dict_name.items():\n",
    "        for k,v in dict_name[key].items(): # key = extraction date, k = metric, v = series of values\n",
    "            if k == str: \n",
    "                for i in v: # to extract the values of the metric from the series of metric (each item has an index)\n",
    "                    x.append(i)\n",
    "    return x"
   ]
  },
  {
   "cell_type": "code",
   "execution_count": 7,
   "metadata": {},
   "outputs": [],
   "source": [
    "# Using the extract function, create lists for neighbourhoods, property types, daily rates, and dates\n",
    "neighbourhoods = extract(Airbnb_df_dict, \"neighbourhood_cleansed\")\n",
    "property_types = extract(Airbnb_df_dict, \"property_type\")\n",
    "daily_rates = extract(Airbnb_df_dict, \"price\")\n",
    "dates = extract(Airbnb_df_dict, \"last_scraped\")"
   ]
  },
  {
   "cell_type": "code",
   "execution_count": 8,
   "metadata": {},
   "outputs": [],
   "source": [
    "# convert dates to year-month format\n",
    "dates2 = []\n",
    "for i in dates:\n",
    "    dates2.append(i[0:7])"
   ]
  },
  {
   "cell_type": "code",
   "execution_count": 9,
   "metadata": {},
   "outputs": [],
   "source": [
    "# create a new dataframe containing the lists of dates, neighbourhoods, property types, and daily rates\n",
    "Airbnb_df = pd.DataFrame({\"date\": dates2,\n",
    "                          \"neighbourhood\": neighbourhoods,\n",
    "                          \"property type\": property_types,\n",
    "                          \"daily rate\": daily_rates})"
   ]
  },
  {
   "cell_type": "code",
   "execution_count": 10,
   "metadata": {},
   "outputs": [],
   "source": [
    "# Convert the price to annual rate from daily rate\n",
    "daily_rate = Airbnb_df[\"daily rate\"].str.replace(\"$\",\"\") # data is string\n",
    "daily_rate = daily_rate.str.replace(\",\",\"\") # data is still string\n",
    "daily_rate = daily_rate.astype(float)\n",
    "Airbnb_df[\"annual rate\"] = daily_rate * 365 # calculate the yearly rate"
   ]
  },
  {
   "cell_type": "code",
   "execution_count": 11,
   "metadata": {},
   "outputs": [
    {
     "data": {
      "text/html": [
       "<div>\n",
       "<style scoped>\n",
       "    .dataframe tbody tr th:only-of-type {\n",
       "        vertical-align: middle;\n",
       "    }\n",
       "\n",
       "    .dataframe tbody tr th {\n",
       "        vertical-align: top;\n",
       "    }\n",
       "\n",
       "    .dataframe thead th {\n",
       "        text-align: right;\n",
       "    }\n",
       "</style>\n",
       "<table border=\"1\" class=\"dataframe\">\n",
       "  <thead>\n",
       "    <tr style=\"text-align: right;\">\n",
       "      <th></th>\n",
       "      <th>date</th>\n",
       "      <th>neighbourhood</th>\n",
       "      <th>property type</th>\n",
       "      <th>daily rate</th>\n",
       "      <th>annual rate</th>\n",
       "    </tr>\n",
       "  </thead>\n",
       "  <tbody>\n",
       "    <tr>\n",
       "      <th>0</th>\n",
       "      <td>2016-10</td>\n",
       "      <td>Seacliff</td>\n",
       "      <td>House</td>\n",
       "      <td>$105.00</td>\n",
       "      <td>38325.0</td>\n",
       "    </tr>\n",
       "    <tr>\n",
       "      <th>1</th>\n",
       "      <td>2016-10</td>\n",
       "      <td>Seacliff</td>\n",
       "      <td>House</td>\n",
       "      <td>$300.00</td>\n",
       "      <td>109500.0</td>\n",
       "    </tr>\n",
       "    <tr>\n",
       "      <th>2</th>\n",
       "      <td>2016-10</td>\n",
       "      <td>Seacliff</td>\n",
       "      <td>Apartment</td>\n",
       "      <td>$175.00</td>\n",
       "      <td>63875.0</td>\n",
       "    </tr>\n",
       "    <tr>\n",
       "      <th>3</th>\n",
       "      <td>2016-10</td>\n",
       "      <td>Seacliff</td>\n",
       "      <td>House</td>\n",
       "      <td>$90.00</td>\n",
       "      <td>32850.0</td>\n",
       "    </tr>\n",
       "    <tr>\n",
       "      <th>4</th>\n",
       "      <td>2016-10</td>\n",
       "      <td>Seacliff</td>\n",
       "      <td>Condominium</td>\n",
       "      <td>$400.00</td>\n",
       "      <td>146000.0</td>\n",
       "    </tr>\n",
       "  </tbody>\n",
       "</table>\n",
       "</div>"
      ],
      "text/plain": [
       "      date neighbourhood property type daily rate  annual rate\n",
       "0  2016-10      Seacliff         House    $105.00      38325.0\n",
       "1  2016-10      Seacliff         House    $300.00     109500.0\n",
       "2  2016-10      Seacliff     Apartment    $175.00      63875.0\n",
       "3  2016-10      Seacliff         House     $90.00      32850.0\n",
       "4  2016-10      Seacliff   Condominium    $400.00     146000.0"
      ]
     },
     "execution_count": 11,
     "metadata": {},
     "output_type": "execute_result"
    }
   ],
   "source": [
    "# view file \n",
    "Airbnb_df.head()"
   ]
  },
  {
   "cell_type": "code",
   "execution_count": 12,
   "metadata": {},
   "outputs": [],
   "source": [
    "# save as csv in the Data folder\n",
    "Airbnb_df.to_csv(\"../Data/Airbnb_listings.csv\", sep = \",\", encoding = \"utf-8\")"
   ]
  }
 ],
 "metadata": {
  "kernelspec": {
   "display_name": "Python 3",
   "language": "python",
   "name": "python3"
  },
  "language_info": {
   "codemirror_mode": {
    "name": "ipython",
    "version": 3
   },
   "file_extension": ".py",
   "mimetype": "text/x-python",
   "name": "python",
   "nbconvert_exporter": "python",
   "pygments_lexer": "ipython3",
   "version": "3.6.5"
  }
 },
 "nbformat": 4,
 "nbformat_minor": 2
}
