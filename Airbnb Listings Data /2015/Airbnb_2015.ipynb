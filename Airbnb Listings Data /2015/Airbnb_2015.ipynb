{
 "cells": [
  {
   "cell_type": "markdown",
   "metadata": {},
   "source": [
    "# Cleaning up the data and merging csv files from 2015"
   ]
  },
  {
   "cell_type": "code",
   "execution_count": 1,
   "metadata": {},
   "outputs": [],
   "source": [
    "# Dependencies\n",
    "import pandas as pd\n",
    "import os\n",
    "import re # for filtering list of files"
   ]
  },
  {
   "cell_type": "code",
   "execution_count": 2,
   "metadata": {},
   "outputs": [
    {
     "data": {
      "text/plain": [
       "['20151102 listings.csv',\n",
       " '20150504 listings.csv',\n",
       " '20150902 listings.csv',\n",
       " '20151202 listings.csv']"
      ]
     },
     "execution_count": 2,
     "metadata": {},
     "output_type": "execute_result"
    }
   ],
   "source": [
    "# List down csv files\n",
    "files = os.listdir()\n",
    "r = re.compile(\".*listings\")\n",
    "newlist = list(filter(r.match, files))\n",
    "\n",
    "newlist"
   ]
  },
  {
   "cell_type": "code",
   "execution_count": 3,
   "metadata": {},
   "outputs": [],
   "source": [
    "# list of csv file contents\n",
    "Airbnb_dflist = [pd.read_csv(file) for file in newlist]"
   ]
  },
  {
   "cell_type": "code",
   "execution_count": 4,
   "metadata": {},
   "outputs": [
    {
     "data": {
      "text/plain": [
       "['20151102', '20150504', '20150902', '20151202']"
      ]
     },
     "execution_count": 4,
     "metadata": {},
     "output_type": "execute_result"
    }
   ],
   "source": [
    "# parsing the names for the dataframes\n",
    "\n",
    "file_names = [file_name[0:8] for file_name in newlist] \n",
    "file_names"
   ]
  },
  {
   "cell_type": "code",
   "execution_count": 5,
   "metadata": {},
   "outputs": [],
   "source": [
    "# put two lists into a dictionary (first list has names of files; second list has the contents of the csv files)\n",
    "\n",
    "Airbnb_df_dict = dict(zip(file_names,Airbnb_dflist))"
   ]
  },
  {
   "cell_type": "code",
   "execution_count": 6,
   "metadata": {},
   "outputs": [],
   "source": [
    "# extract a list of neighbourhoods for all periods in 2015\n",
    "neighbourhoods = []\n",
    "for key,value in Airbnb_df_dict.items():\n",
    "    for k,v in Airbnb_df_dict[key].items():\n",
    "        if k == \"neighbourhood_cleansed\":\n",
    "            for i in v:\n",
    "                neighbourhoods.append(i)"
   ]
  },
  {
   "cell_type": "code",
   "execution_count": 7,
   "metadata": {},
   "outputs": [],
   "source": [
    "# extract a list of property types for all periods in 2015\n",
    "property_type = []\n",
    "for key, value in Airbnb_df_dict.items():\n",
    "    for k,v in Airbnb_df_dict[key].items():\n",
    "        if k == \"property_type\":\n",
    "            for i in v:\n",
    "                property_type.append(i)"
   ]
  },
  {
   "cell_type": "code",
   "execution_count": 8,
   "metadata": {},
   "outputs": [],
   "source": [
    "# extract a list of daily rates for all periods in 2015\n",
    "daily_rates = []\n",
    "for key, value in Airbnb_df_dict.items():\n",
    "    for k,v in Airbnb_df_dict[key].items():\n",
    "        if k == \"price\":\n",
    "            for i in v:\n",
    "                daily_rates.append(i)"
   ]
  },
  {
   "cell_type": "code",
   "execution_count": 9,
   "metadata": {},
   "outputs": [],
   "source": [
    "# extract a list of dates for all periods in 2015\n",
    "dates = []\n",
    "for key, value in Airbnb_df_dict.items():\n",
    "    for k,v in Airbnb_df_dict[key].items():\n",
    "        if k == \"last_scraped\":\n",
    "            for i in v:\n",
    "                dates.append(i)\n",
    "\n",
    "# convert dates to year-month format\n",
    "\n",
    "dates2 = []\n",
    "for i in dates:\n",
    "    dates2.append(i[0:7])"
   ]
  },
  {
   "cell_type": "code",
   "execution_count": 10,
   "metadata": {},
   "outputs": [],
   "source": [
    "# create a new dataframe containing the lists of dates, neighbourhoods, property types, and daily rates\n",
    "\n",
    "Airbnb_2015_df = pd.DataFrame({\"date\": dates2,\n",
    "                          \"neighbourhood\": neighbourhoods,\n",
    "                          \"property type\": property_type,\n",
    "                          \"daily rate\": daily_rates})"
   ]
  },
  {
   "cell_type": "code",
   "execution_count": 11,
   "metadata": {},
   "outputs": [],
   "source": [
    "# Convert the price to annual rate from daily rate\n",
    "\n",
    "daily_rate= Airbnb_2015_df[\"daily rate\"].str.replace(\"$\",\"\") # data is string\n",
    "daily_rate = daily_rate.str.replace(\",\",\"\") # data is still string\n",
    "daily_rate = daily_rate.astype(float)\n",
    "Airbnb_2015_df[\"annual rate\"] = daily_rate * 365"
   ]
  },
  {
   "cell_type": "code",
   "execution_count": 12,
   "metadata": {},
   "outputs": [
    {
     "data": {
      "text/html": [
       "<div>\n",
       "<style scoped>\n",
       "    .dataframe tbody tr th:only-of-type {\n",
       "        vertical-align: middle;\n",
       "    }\n",
       "\n",
       "    .dataframe tbody tr th {\n",
       "        vertical-align: top;\n",
       "    }\n",
       "\n",
       "    .dataframe thead th {\n",
       "        text-align: right;\n",
       "    }\n",
       "</style>\n",
       "<table border=\"1\" class=\"dataframe\">\n",
       "  <thead>\n",
       "    <tr style=\"text-align: right;\">\n",
       "      <th></th>\n",
       "      <th>date</th>\n",
       "      <th>neighbourhood</th>\n",
       "      <th>property type</th>\n",
       "      <th>daily rate</th>\n",
       "      <th>annual rate</th>\n",
       "    </tr>\n",
       "  </thead>\n",
       "  <tbody>\n",
       "    <tr>\n",
       "      <th>0</th>\n",
       "      <td>2015-11</td>\n",
       "      <td>Seacliff</td>\n",
       "      <td>Apartment</td>\n",
       "      <td>$350.00</td>\n",
       "      <td>127750.0</td>\n",
       "    </tr>\n",
       "    <tr>\n",
       "      <th>1</th>\n",
       "      <td>2015-11</td>\n",
       "      <td>Seacliff</td>\n",
       "      <td>House</td>\n",
       "      <td>$300.00</td>\n",
       "      <td>109500.0</td>\n",
       "    </tr>\n",
       "    <tr>\n",
       "      <th>2</th>\n",
       "      <td>2015-11</td>\n",
       "      <td>Seacliff</td>\n",
       "      <td>House</td>\n",
       "      <td>$119.00</td>\n",
       "      <td>43435.0</td>\n",
       "    </tr>\n",
       "    <tr>\n",
       "      <th>3</th>\n",
       "      <td>2015-11</td>\n",
       "      <td>Seacliff</td>\n",
       "      <td>Apartment</td>\n",
       "      <td>$79.00</td>\n",
       "      <td>28835.0</td>\n",
       "    </tr>\n",
       "    <tr>\n",
       "      <th>4</th>\n",
       "      <td>2015-11</td>\n",
       "      <td>Seacliff</td>\n",
       "      <td>Apartment</td>\n",
       "      <td>$695.00</td>\n",
       "      <td>253675.0</td>\n",
       "    </tr>\n",
       "  </tbody>\n",
       "</table>\n",
       "</div>"
      ],
      "text/plain": [
       "      date neighbourhood property type daily rate  annual rate\n",
       "0  2015-11      Seacliff     Apartment    $350.00     127750.0\n",
       "1  2015-11      Seacliff         House    $300.00     109500.0\n",
       "2  2015-11      Seacliff         House    $119.00      43435.0\n",
       "3  2015-11      Seacliff     Apartment     $79.00      28835.0\n",
       "4  2015-11      Seacliff     Apartment    $695.00     253675.0"
      ]
     },
     "execution_count": 12,
     "metadata": {},
     "output_type": "execute_result"
    }
   ],
   "source": [
    "# view file \n",
    "\n",
    "Airbnb_2015_df.head()"
   ]
  },
  {
   "cell_type": "code",
   "execution_count": 13,
   "metadata": {},
   "outputs": [],
   "source": [
    "# save as csv\n",
    "\n",
    "Airbnb_2015_df.to_csv(\"Airbnb_2015.csv\", sep = \",\", encoding = \"utf-8\")"
   ]
  }
 ],
 "metadata": {
  "kernelspec": {
   "display_name": "Python 3",
   "language": "python",
   "name": "python3"
  },
  "language_info": {
   "codemirror_mode": {
    "name": "ipython",
    "version": 3
   },
   "file_extension": ".py",
   "mimetype": "text/x-python",
   "name": "python",
   "nbconvert_exporter": "python",
   "pygments_lexer": "ipython3",
   "version": "3.6.5"
  }
 },
 "nbformat": 4,
 "nbformat_minor": 2
}
