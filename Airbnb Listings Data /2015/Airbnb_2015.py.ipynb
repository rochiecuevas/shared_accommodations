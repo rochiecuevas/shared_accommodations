{
 "cells": [
  {
   "cell_type": "markdown",
   "metadata": {},
   "source": [
    "# Cleaning up the data and merging csv files"
   ]
  },
  {
   "cell_type": "code",
   "execution_count": null,
   "metadata": {},
   "outputs": [],
   "source": [
    "# Dependencies\n",
    "import pandas as pd\n",
    "import os\n",
    "import re # for filtering list of files"
   ]
  },
  {
   "cell_type": "code",
   "execution_count": null,
   "metadata": {},
   "outputs": [],
   "source": [
    "# List down csv files\n",
    "files = os.listdir()\n",
    "r = re.compile(\".*listings\")\n",
    "newlist = list(filter(r.match, files))\n",
    "\n",
    "newlist"
   ]
  },
  {
   "cell_type": "code",
   "execution_count": null,
   "metadata": {},
   "outputs": [],
   "source": [
    "# list of csv file contents\n",
    "Airbnb_dflist = [pd.read_csv(file) for file in newlist]"
   ]
  },
  {
   "cell_type": "code",
   "execution_count": null,
   "metadata": {},
   "outputs": [],
   "source": [
    "# parsing the names for the dataframes\n",
    "\n",
    "file_names = [file_name[0:8] for file_name in newlist] \n",
    "file_names"
   ]
  },
  {
   "cell_type": "code",
   "execution_count": null,
   "metadata": {},
   "outputs": [],
   "source": [
    "# put two lists into a dictionary\n",
    "\n",
    "Airbnb_df_dict = dict(zip(file_names,Airbnb_dflist))"
   ]
  },
  {
   "cell_type": "code",
   "execution_count": null,
   "metadata": {},
   "outputs": [],
   "source": [
    "for key in Airbnb_df_dict:\n",
    "    for item in Airbnb_df_dict[key].items():\n",
    "        print(Airbnb_df_dict[key][\"neighbourhood_cleansed\"])"
   ]
  },
  {
   "cell_type": "code",
   "execution_count": null,
   "metadata": {},
   "outputs": [],
   "source": [
    "Airbnb_df_dict[\"20151202\"][\"neighbourhood_cleansed\"]"
   ]
  },
  {
   "cell_type": "code",
   "execution_count": null,
   "metadata": {},
   "outputs": [],
   "source": [
    "# get csv files\n",
    "\n",
    "\n",
    "Airbnb_201505 = pd.read_csv(\"20150504 listings.csv\")\n",
    "Airbnb_201509 = pd.read_csv(\"20150902 listings.csv\")\n",
    "Airbnb_201511 = pd.read_csv(\"20151102 listings.csv\")\n",
    "Airbnb_201512 = pd.read_csv(\"20151202 listings.csv\")"
   ]
  },
  {
   "cell_type": "code",
   "execution_count": null,
   "metadata": {
    "scrolled": true
   },
   "outputs": [],
   "source": [
    "# select columns for use in the data analyses\n",
    "Airbnb_201505_df = Airbnb_201505[[\"neighbourhood_cleansed\", \"property_type\", \"price\"]]\n",
    "Airbnb_201509_df = Airbnb_201509[[\"neighbourhood_cleansed\", \"property_type\", \"price\"]]\n",
    "Airbnb_201511_df = Airbnb_201511[[\"neighbourhood_cleansed\", \"property_type\", \"price\"]]\n",
    "Airbnb_201512_df = Airbnb_201512[[\"neighbourhood_cleansed\", \"property_type\", \"price\"]]"
   ]
  },
  {
   "cell_type": "code",
   "execution_count": null,
   "metadata": {},
   "outputs": [],
   "source": [
    "# Convert the price to annual rate from daily rate\n",
    "\n",
    "# 201505\n",
    "daily_rate_201505 = Airbnb_201505_df[\"price\"].str.replace(\"$\",\"\") # data is string\n",
    "daily_rate_201505 = daily_rate_201505.str.replace(\",\",\"\") # data is still string\n",
    "daily_rate_201505 = daily_rate_201505.astype(float)\n",
    "Airbnb_201505_df[\"annual rate\"] = daily_rate_201505 * 365\n",
    "\n",
    "# 201509\n",
    "daily_rate_201509 = Airbnb_201509_df[\"price\"].str.replace(\"$\",\"\") # data is string\n",
    "daily_rate_201509 = daily_rate_201509.str.replace(\",\",\"\") # data is still string\n",
    "daily_rate_201509 = daily_rate_201509.astype(float)\n",
    "Airbnb_201509_df[\"annual rate\"] = daily_rate_201509 * 365\n",
    "\n",
    "# 201511\n",
    "daily_rate_201511 = Airbnb_201511_df[\"price\"].str.replace(\"$\",\"\") # data is string\n",
    "daily_rate_201511 = daily_rate_201511.str.replace(\",\",\"\") # data is still string\n",
    "daily_rate_201511 = daily_rate_201511.astype(float)\n",
    "Airbnb_201511_df[\"annual rate\"] = daily_rate_201511 * 365\n",
    "\n",
    "# 201512\n",
    "daily_rate_201512 = Airbnb_201512_df[\"price\"].str.replace(\"$\",\"\") # data is string\n",
    "daily_rate_201512 = daily_rate_201512.str.replace(\",\",\"\") # data is still string\n",
    "daily_rate_201512 = daily_rate_201512.astype(float)\n",
    "Airbnb_201512_df[\"annual rate\"] = daily_rate_201512 * 365\n"
   ]
  },
  {
   "cell_type": "code",
   "execution_count": null,
   "metadata": {},
   "outputs": [],
   "source": [
    "# Add a date column in each dataframe\n",
    "Airbnb_201505_df[\"date\"] = pd.to_datetime(\"2015-05\")\n",
    "Airbnb_201509_df[\"date\"] = pd.to_datetime(\"2015-09\")\n",
    "Airbnb_201511_df[\"date\"] = pd.to_datetime(\"2015-11\")\n",
    "Airbnb_201512_df[\"date\"] = pd.to_datetime(\"2015-12\")\n",
    "\n",
    "Airbnb_201512_df.head()"
   ]
  },
  {
   "cell_type": "code",
   "execution_count": null,
   "metadata": {},
   "outputs": [],
   "source": [
    "# Merge all dataframes into one dataframe for 2015\n",
    "Airbnb_2015 = pd.concat(Airbnb_201505_df, Airbnb_201509_df, Airbnb_201511_df, Airbnb_201512_df)"
   ]
  }
 ],
 "metadata": {
  "kernelspec": {
   "display_name": "Python 3",
   "language": "python",
   "name": "python3"
  },
  "language_info": {
   "codemirror_mode": {
    "name": "ipython",
    "version": 3
   },
   "file_extension": ".py",
   "mimetype": "text/x-python",
   "name": "python",
   "nbconvert_exporter": "python",
   "pygments_lexer": "ipython3",
   "version": "3.6.5"
  }
 },
 "nbformat": 4,
 "nbformat_minor": 2
}
